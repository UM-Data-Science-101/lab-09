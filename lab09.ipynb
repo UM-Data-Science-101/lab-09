{
 "cells": [
  {
   "cell_type": "markdown",
   "metadata": {
    "id": "ksp3-wvDwawZ"
   },
   "source": [
    "# Back Bay National Wildlife Refuge\n",
    "\n",
    "\n",
    "> Back Bay National Wildlife Refuge is located in the southeastern corner of the City of Virginia Beach. The refuge was established in 1938 to protect and provide habitat for migrating and wintering waterfowl. Diverse habitats, including beachfront, freshwater marsh, dunes, shrub-scrub and upland forest are home to hundreds of species of birds, reptiles, amphibians, mammals and fish.\n",
    "\n",
    "![BNWR](https://www.fws.gov/sites/default/files/styles/banner_image_xl/public/banner_images/2020-09/waterfowl%20%28tundras%29.jpg?h=0c8d0f81&itok=NcZlpD27)\n"
   ]
  },
  {
   "cell_type": "markdown",
   "metadata": {
    "id": "XYrofsga2Ufg"
   },
   "source": [
    "To get introduced to the park and its history, please view the following interactive story map.\n",
    "\n",
    "[BBNWR History and Introduction](https://storymaps.arcgis.com/stories/960d9db38cca4f3d8d38111119b9874f)\n",
    "\n",
    "Additionally, here is some drone footage of the park for a better look at the geography and ecology of the area.\n",
    "\n",
    "[BBNWR Drone Footage](https://www.youtube.com/watch?v=NlW330aBTCc)\n"
   ]
  },
  {
   "cell_type": "code",
   "execution_count": 1,
   "metadata": {
    "executionInfo": {
     "elapsed": 813,
     "status": "ok",
     "timestamp": 1711997451898,
     "user": {
      "displayName": "Mark Fredrickson",
      "userId": "00750034528096359769"
     },
     "user_tz": 240
    },
    "id": "yA0hA9m5wawa"
   },
   "outputs": [],
   "source": [
    "import os\n",
    "import pandas as pd\n",
    "import numpy as np\n",
    "import seaborn as sb"
   ]
  },
  {
   "cell_type": "code",
   "execution_count": 2,
   "metadata": {
    "executionInfo": {
     "elapsed": 2,
     "status": "ok",
     "timestamp": 1711997452827,
     "user": {
      "displayName": "Mark Fredrickson",
      "userId": "00750034528096359769"
     },
     "user_tz": 240
    },
    "id": "jfeXpob9wawb"
   },
   "outputs": [],
   "source": [
    "bbnwr = pd.read_csv(\"./BKB_WaterQualityData_2020084.csv\")"
   ]
  },
  {
   "cell_type": "markdown",
   "metadata": {
    "id": "MwvEoL1Jwawb"
   },
   "source": [
    "## Getting to know the data\n",
    "\n",
    "How many different `Site_Id` values are there and how many observations per site?"
   ]
  },
  {
   "cell_type": "code",
   "execution_count": null,
   "metadata": {
    "executionInfo": {
     "elapsed": 1,
     "status": "ok",
     "timestamp": 1711997452827,
     "user": {
      "displayName": "Mark Fredrickson",
      "userId": "00750034528096359769"
     },
     "user_tz": 240
    },
    "id": "A8ZFgG73wawb"
   },
   "outputs": [],
   "source": []
  },
  {
   "cell_type": "markdown",
   "metadata": {
    "id": "zYCyP5ukwawb"
   },
   "source": [
    "<details>\n",
    "    \n",
    "`bbnwr[\"Site_Id\"].value_counts()`\n",
    "    \n",
    "</details>"
   ]
  },
  {
   "cell_type": "markdown",
   "metadata": {
    "id": "KfVeeLWBwawb"
   },
   "source": [
    "You will see that one observation was miscoded as \"d\" instead of \"D\". Use the [replace](https://pandas.pydata.org/docs/reference/api/pandas.Series.replace.html) method to change \"d\" to \"D\". Make sure to save the results back to the \"Site_Id\" column and verify your results by showing the number of observations per \"Site_Id\"."
   ]
  },
  {
   "cell_type": "code",
   "execution_count": null,
   "metadata": {
    "executionInfo": {
     "elapsed": 1,
     "status": "ok",
     "timestamp": 1711997452827,
     "user": {
      "displayName": "Mark Fredrickson",
      "userId": "00750034528096359769"
     },
     "user_tz": 240
    },
    "id": "6pzfIiNtwawb"
   },
   "outputs": [],
   "source": []
  },
  {
   "cell_type": "markdown",
   "metadata": {
    "id": "ruV20V0Hwawc"
   },
   "source": [
    "<details>\n",
    "\n",
    "`bbnwr[\"Site_Id\"] = bbnwr[\"Site_Id\"].replace(\"d\", \"D\")`\n",
    "`bbnwr[\"Site_Id\"].value_counts()`\n",
    "\n",
    "</details>"
   ]
  },
  {
   "cell_type": "markdown",
   "metadata": {
    "id": "lJM_3KWAwawc"
   },
   "source": [
    "Create a box plot of \"Dissolved Oxygen (mg/L)\" broken out by \"Site_Id\". Feel free to set `showfliers = False`. Which site typically has the highest dissolved oxygen?"
   ]
  },
  {
   "cell_type": "code",
   "execution_count": null,
   "metadata": {
    "executionInfo": {
     "elapsed": 1,
     "status": "ok",
     "timestamp": 1711997452827,
     "user": {
      "displayName": "Mark Fredrickson",
      "userId": "00750034528096359769"
     },
     "user_tz": 240
    },
    "id": "A_BI3m21wawc"
   },
   "outputs": [],
   "source": []
  },
  {
   "cell_type": "markdown",
   "metadata": {
    "id": "9Ln6uug0wawc"
   },
   "source": [
    "<details>\n",
    "\n",
    "`sb.boxplot(data = bbnwr, x = \"Site_Id\", y = \"Dissolved Oxygen (mg/L)\", showfliers = False)`\n",
    "\n",
    "</details>"
   ]
  },
  {
   "cell_type": "markdown",
   "metadata": {
    "id": "S-ntLL_1wawc"
   },
   "source": [
    "Make a scatter plot of \"AirTemp (C)\" and \"Dissolved Oxygen (mg/L)\". What do you notice about this plot that might suggest a problem with the data?"
   ]
  },
  {
   "cell_type": "code",
   "execution_count": null,
   "metadata": {
    "executionInfo": {
     "elapsed": 1,
     "status": "ok",
     "timestamp": 1711997452827,
     "user": {
      "displayName": "Mark Fredrickson",
      "userId": "00750034528096359769"
     },
     "user_tz": 240
    },
    "id": "AVsfujzOwawc"
   },
   "outputs": [],
   "source": []
  },
  {
   "cell_type": "markdown",
   "metadata": {
    "id": "fqDULcXUwawc"
   },
   "source": [
    "<details>\n",
    "    \n",
    "`sb.scatterplot(data = bbnwr, x = \"AirTemp (C)\", y = \"Dissolved Oxygen (mg/L)\")`\n",
    "    \n",
    "    \n",
    "</details>"
   ]
  },
  {
   "cell_type": "markdown",
   "metadata": {
    "id": "MTLIq6Ajwawc"
   },
   "source": [
    "## Simulating the sampling distribution of the sample mean"
   ]
  },
  {
   "cell_type": "markdown",
   "metadata": {
    "id": "zqvEzj7z_zuF"
   },
   "source": [
    "Below is a plot of the Dissolved Oxygen variable. We can see that this distribution looks approximately bell-shaped (normal/Gaussian) already, with no strong left or right skew."
   ]
  },
  {
   "cell_type": "code",
   "execution_count": 3,
   "metadata": {
    "colab": {
     "base_uri": "https://localhost:8080/",
     "height": 466
    },
    "executionInfo": {
     "elapsed": 997,
     "status": "ok",
     "timestamp": 1711997453823,
     "user": {
      "displayName": "Mark Fredrickson",
      "userId": "00750034528096359769"
     },
     "user_tz": 240
    },
    "id": "O5klqSub_LPz",
    "outputId": "2650a6bf-26a4-46a9-c66d-331ef8ec1e8c"
   },
   "outputs": [
    {
     "data": {
      "text/plain": [
       "<Axes: xlabel='Dissolved Oxygen (mg/L)', ylabel='Density'>"
      ]
     },
     "execution_count": 3,
     "metadata": {},
     "output_type": "execute_result"
    },
    {
     "data": {
      "image/png": "[encoded data removed]",
      "text/plain": [
       "<Figure size 640x480 with 1 Axes>"
      ]
     },
     "metadata": {},
     "output_type": "display_data"
    }
   ],
   "source": [
    "sb.kdeplot(bbnwr[\"Dissolved Oxygen (mg/L)\"])"
   ]
  },
  {
   "cell_type": "markdown",
   "metadata": {
    "id": "zMU7K66kAKOu"
   },
   "source": [
    "Suppose we did not get to see all of these measurements, but only a sample of size 20. We want to estimate the average dissolved oxygen level. How well does the sample do at estimating this **parameter**.\n",
    "\n",
    "First, pull out the \"Dissolved Oxygen (mg/L)\" column and remove any missing values. Call this `dissox`."
   ]
  },
  {
   "cell_type": "code",
   "execution_count": null,
   "metadata": {
    "executionInfo": {
     "elapsed": 7,
     "status": "ok",
     "timestamp": 1711997453824,
     "user": {
      "displayName": "Mark Fredrickson",
      "userId": "00750034528096359769"
     },
     "user_tz": 240
    },
    "id": "pHI7hwAHwawc"
   },
   "outputs": [],
   "source": []
  },
  {
   "cell_type": "markdown",
   "metadata": {
    "id": "wQcDpNJkwawc"
   },
   "source": [
    "<details>\n",
    "\n",
    "`dissox = bbnwr[\"Dissolved Oxygen (mg/L)\"].dropna()`\n",
    "\n",
    "</details>"
   ]
  },
  {
   "cell_type": "markdown",
   "metadata": {
    "id": "t9WZScR3wawc"
   },
   "source": [
    "`dissox` will play the role of the population in this simulation.\n",
    "\n",
    "Use the `sample` method to draw 20 observations from the population using a simple random sample and compute the sample mean of these values."
   ]
  },
  {
   "cell_type": "code",
   "execution_count": null,
   "metadata": {
    "executionInfo": {
     "elapsed": 7,
     "status": "ok",
     "timestamp": 1711997453824,
     "user": {
      "displayName": "Mark Fredrickson",
      "userId": "00750034528096359769"
     },
     "user_tz": 240
    },
    "id": "DWt3mFM-wawc"
   },
   "outputs": [],
   "source": []
  },
  {
   "cell_type": "markdown",
   "metadata": {
    "id": "-8kmRArYwawd"
   },
   "source": [
    "<details>\n",
    "\n",
    "`dissox.sample(20).mean()`\n",
    "\n",
    "</details>"
   ]
  },
  {
   "cell_type": "markdown",
   "metadata": {
    "id": "jG3d-N2pwawd"
   },
   "source": [
    "If we drew another sample, would you expect to see the same sample mean value? Find out."
   ]
  },
  {
   "cell_type": "code",
   "execution_count": null,
   "metadata": {
    "executionInfo": {
     "elapsed": 7,
     "status": "ok",
     "timestamp": 1711997453824,
     "user": {
      "displayName": "Mark Fredrickson",
      "userId": "00750034528096359769"
     },
     "user_tz": 240
    },
    "id": "oBoSYtFAwawd"
   },
   "outputs": [],
   "source": []
  },
  {
   "cell_type": "markdown",
   "metadata": {
    "id": "C4dijUTAwawd"
   },
   "source": [
    "<details>\n",
    "\n",
    "`dissox.sample(20).mean()`\n",
    "\n",
    "</details>"
   ]
  },
  {
   "cell_type": "markdown",
   "metadata": {
    "id": "F3tr9BHnwawd"
   },
   "source": [
    "Take a moment to write down what you are seeing. Why are these values not the same?"
   ]
  },
  {
   "cell_type": "markdown",
   "metadata": {
    "id": "0eXJnA_ewawd"
   },
   "source": []
  },
  {
   "cell_type": "markdown",
   "metadata": {
    "id": "ljUjGDaSwawd"
   },
   "source": [
    "Now repeat this process using a list comprehension to repeat the sampling 100,000 times. (Hint: the end of the comprehension should include `for _ in range(0, 100000)`)."
   ]
  },
  {
   "cell_type": "code",
   "execution_count": null,
   "metadata": {
    "executionInfo": {
     "elapsed": 7,
     "status": "ok",
     "timestamp": 1711997453824,
     "user": {
      "displayName": "Mark Fredrickson",
      "userId": "00750034528096359769"
     },
     "user_tz": 240
    },
    "id": "YcFUAYdLwawd"
   },
   "outputs": [],
   "source": []
  },
  {
   "cell_type": "markdown",
   "metadata": {
    "id": "gDZ5lHq6wawd"
   },
   "source": [
    "<details>\n",
    "\n",
    "```\n",
    "sample_means = [dissox.sample(20).mean() for _ in range(0,100000)]\n",
    "sample_means = pd.Series(sample_means)\n",
    "```\n",
    "\n",
    "</details>"
   ]
  },
  {
   "cell_type": "markdown",
   "metadata": {
    "id": "233W1lKAwawd"
   },
   "source": [
    "What is the mean of the sample means?"
   ]
  },
  {
   "cell_type": "code",
   "execution_count": null,
   "metadata": {
    "executionInfo": {
     "elapsed": 7,
     "status": "ok",
     "timestamp": 1711997453824,
     "user": {
      "displayName": "Mark Fredrickson",
      "userId": "00750034528096359769"
     },
     "user_tz": 240
    },
    "id": "5IxmWDpWwawd"
   },
   "outputs": [],
   "source": []
  },
  {
   "cell_type": "markdown",
   "metadata": {
    "id": "Nc6Ly9-Nwawd"
   },
   "source": [
    "<details>\n",
    "\n",
    "`sample_means.mean()`\n",
    "\n",
    "</details>"
   ]
  },
  {
   "cell_type": "markdown",
   "metadata": {
    "id": "FZx50xt_wawd"
   },
   "source": [
    "What is the standard error? (Recall, a standard error is the standard deviation of a sampling distribution.)"
   ]
  },
  {
   "cell_type": "code",
   "execution_count": null,
   "metadata": {
    "executionInfo": {
     "elapsed": 7,
     "status": "ok",
     "timestamp": 1711997453824,
     "user": {
      "displayName": "Mark Fredrickson",
      "userId": "00750034528096359769"
     },
     "user_tz": 240
    },
    "id": "fJpmtiBrwawd"
   },
   "outputs": [],
   "source": []
  },
  {
   "cell_type": "markdown",
   "metadata": {
    "id": "AaAMZ7ZRwawd"
   },
   "source": [
    "<details>\n",
    "\n",
    "`sample_means.std()`\n",
    "\n",
    "</details>"
   ]
  },
  {
   "cell_type": "markdown",
   "metadata": {
    "id": "-ghHK7eywawd"
   },
   "source": [
    "Now, compute the mean and standard deviation of dissolved oxygen for the population (`bbnwr[\"Dissolved Oxygen (mg/L)\"]`). How do they relate to what you computed from the sampling distribution of the sample means?"
   ]
  },
  {
   "cell_type": "code",
   "execution_count": null,
   "metadata": {
    "executionInfo": {
     "elapsed": 7,
     "status": "ok",
     "timestamp": 1711997453824,
     "user": {
      "displayName": "Mark Fredrickson",
      "userId": "00750034528096359769"
     },
     "user_tz": 240
    },
    "id": "CdTp93q7wawd"
   },
   "outputs": [],
   "source": []
  },
  {
   "cell_type": "markdown",
   "metadata": {
    "id": "14xqCXy9wawd"
   },
   "source": [
    "<details>\n",
    "\n",
    "```\n",
    "ex = bbnwr[\"Dissolved Oxygen (mg/L)\"].mean()\n",
    "stdx = bbnwr[\"Dissolved Oxygen (mg/L)\"].std()\n",
    "(round(ex, 3), round(stdx, 3), round(stdx / np.sqrt(20), 4))\n",
    "```\n",
    "\n",
    "</details>"
   ]
  },
  {
   "cell_type": "markdown",
   "metadata": {
    "id": "JvpGTfpiwawe"
   },
   "source": [
    "Repeat the simulation for a sample size of 100. What do you see?"
   ]
  },
  {
   "cell_type": "code",
   "execution_count": null,
   "metadata": {
    "executionInfo": {
     "elapsed": 6,
     "status": "ok",
     "timestamp": 1711997453824,
     "user": {
      "displayName": "Mark Fredrickson",
      "userId": "00750034528096359769"
     },
     "user_tz": 240
    },
    "id": "OQBJKPRewawm"
   },
   "outputs": [],
   "source": []
  },
  {
   "cell_type": "markdown",
   "metadata": {
    "id": "WxWYtFVnwawm"
   },
   "source": [
    "<details>\n",
    "\n",
    "```\n",
    "sample_means_100 = [dissox.sample(100).mean() for _ in range(0,100000)]\n",
    "sample_means_100 = pd.Series(sample_means_100)\n",
    "(sample_means_100.mean(), sample_means_100.std())\n",
    "```\n",
    "\n",
    "</details>"
   ]
  },
  {
   "cell_type": "markdown",
   "metadata": {
    "id": "xChAPRwGwawm"
   },
   "source": [
    "Plot (using a KDE plot) the distribution of the sample means for samples of 20 and the distribution of the sample means for samples of size 100. What do you see? (Look carefully at the scale of the x-axis)"
   ]
  },
  {
   "cell_type": "code",
   "execution_count": null,
   "metadata": {
    "executionInfo": {
     "elapsed": 6,
     "status": "ok",
     "timestamp": 1711997453824,
     "user": {
      "displayName": "Mark Fredrickson",
      "userId": "00750034528096359769"
     },
     "user_tz": 240
    },
    "id": "vdTA7fRMwawm"
   },
   "outputs": [],
   "source": []
  },
  {
   "cell_type": "markdown",
   "metadata": {
    "id": "O2Plipjqwawm"
   },
   "source": [
    "<details>\n",
    "\n",
    "```\n",
    "sb.kdeplot(x = sample_means)\n",
    "sb.kdeplot(x = sample_means_100)\n",
    "```\n",
    "\n",
    "</details>"
   ]
  },
  {
   "cell_type": "markdown",
   "metadata": {
    "id": "2obAS9nYwawm"
   },
   "source": [
    "For the sample means of samples of size 100, what proportion are less than one, two, and three standard errors from the mean of the distribution?"
   ]
  },
  {
   "cell_type": "code",
   "execution_count": null,
   "metadata": {
    "executionInfo": {
     "elapsed": 6,
     "status": "ok",
     "timestamp": 1711997453824,
     "user": {
      "displayName": "Mark Fredrickson",
      "userId": "00750034528096359769"
     },
     "user_tz": 240
    },
    "id": "TdMdlcKCwawm"
   },
   "outputs": [],
   "source": []
  },
  {
   "cell_type": "markdown",
   "metadata": {
    "id": "l76lIYJ8wawm"
   },
   "source": [
    "<details>\n",
    "    \n",
    "```\n",
    "sem = stdx / np.sqrt(100)\n",
    "dists_100 = (sample_means_100 - ex).abs()\n",
    "((dists_100 < 1 * sem ).mean(),\n",
    " (dists_100 < 2 * sem).mean(),\n",
    " (dists_100 < 3 * sem).mean())\n",
    "```\n",
    "               \n",
    "</details>"
   ]
  },
  {
   "cell_type": "markdown",
   "metadata": {
    "id": "zWNbTnl_wawm"
   },
   "source": [
    "What is the name of the theorem that states that we should see the sample mean have an approximately Gaussian distribution in large samples? What is the name of the rule that gives particular percentages for the probability of being within 1, 2, or 3 standard errors for the sample mean?"
   ]
  },
  {
   "cell_type": "markdown",
   "metadata": {
    "id": "Zba0L1EM6CFW"
   },
   "source": []
  },
  {
   "cell_type": "markdown",
   "metadata": {
    "id": "-2FOlCqYPm3-"
   },
   "source": [
    "## Sampling Distributions for Other Statistics\n",
    "\n",
    "We have been focusing on *sample means*, but other statistics also have *sampling distributions*.\n",
    "\n",
    "The most immediate extension is the sampling distribution for the **difference of sample means**.\n",
    "\n",
    "Let's create a new column \"bay\" for `bbnwr` that indicates if the `Site_Id` is equal to `Bay` and false otherwise.\n"
   ]
  },
  {
   "cell_type": "code",
   "execution_count": 4,
   "metadata": {
    "executionInfo": {
     "elapsed": 6,
     "status": "ok",
     "timestamp": 1711997453824,
     "user": {
      "displayName": "Mark Fredrickson",
      "userId": "00750034528096359769"
     },
     "user_tz": 240
    },
    "id": "4glEAJnxU-0w"
   },
   "outputs": [],
   "source": [
    "bbnwr[\"bay\"] = bbnwr[\"Site_Id\"] == \"Bay\"\n",
    "bbnwr[\"bay\"].mean()\n",
    "\n",
    "dissox_bay = bbnwr.dropna(subset = [\"bay\", \"Dissolved Oxygen (mg/L)\"])"
   ]
  },
  {
   "cell_type": "markdown",
   "metadata": {
    "id": "tyDy9hKxVsKx"
   },
   "source": [
    "Write a function `diff_mean_dissox` that will take a table and compute the difference for \"Dissolved Oxygen (mg/L)\" for the Bay and non-Bay entries. Run it on the entire `dissox_bay` \"population\" see what the population difference of means is.\n"
   ]
  },
  {
   "cell_type": "code",
   "execution_count": null,
   "metadata": {
    "executionInfo": {
     "elapsed": 6,
     "status": "ok",
     "timestamp": 1711997453824,
     "user": {
      "displayName": "Mark Fredrickson",
      "userId": "00750034528096359769"
     },
     "user_tz": 240
    },
    "id": "ulMRfFoZWFfv"
   },
   "outputs": [],
   "source": []
  },
  {
   "cell_type": "markdown",
   "metadata": {
    "id": "D2woPwIU_0qY"
   },
   "source": [
    "<details>\n",
    "\n",
    "```\n",
    "def diff_mean_dissox(tbl):\n",
    "  means = tbl.groupby(\"bay\")[\"Dissolved Oxygen (mg/L)\"].mean()\n",
    "  return means[True] - means[False]\n",
    "\n",
    "diff_mean_dissox(dissox_bay)\n",
    "```\n",
    "\n",
    "</details>"
   ]
  },
  {
   "cell_type": "markdown",
   "metadata": {
    "id": "U445BzvSaEer"
   },
   "source": [
    "If we need to get specific numbers of samples of each type of measurement, say for example 20 measurements from the bay and 20 from the other locations, we can combine `groupby` with `sample`:"
   ]
  },
  {
   "cell_type": "code",
   "execution_count": 5,
   "metadata": {
    "colab": {
     "base_uri": "https://localhost:8080/"
    },
    "executionInfo": {
     "elapsed": 5,
     "status": "ok",
     "timestamp": 1711997453824,
     "user": {
      "displayName": "Mark Fredrickson",
      "userId": "00750034528096359769"
     },
     "user_tz": 240
    },
    "id": "R7CW2PDmWE2X",
    "outputId": "f9f5edfd-f062-41f9-c636-db126c366b72"
   },
   "outputs": [
    {
     "data": {
      "text/plain": [
       "bay\n",
       "False    5.710\n",
       "True     7.685\n",
       "Name: Dissolved Oxygen (mg/L), dtype: float64"
      ]
     },
     "execution_count": 5,
     "metadata": {},
     "output_type": "execute_result"
    }
   ],
   "source": [
    "samples_20_each = dissox_bay.groupby(\"bay\").sample(20)\n",
    "\n",
    "samples_20_each.groupby(\"bay\")[\"Dissolved Oxygen (mg/L)\"].mean()"
   ]
  },
  {
   "cell_type": "markdown",
   "metadata": {
    "id": "4JV3x60vavfm"
   },
   "source": [
    "Create a simulation that takes 5000 samples of size 20 from both the bay and non-bay sites and computes the difference of means for dissolved oxygen.\n",
    "\n",
    "Plot the results using a KDE plot.\n"
   ]
  },
  {
   "cell_type": "code",
   "execution_count": null,
   "metadata": {
    "executionInfo": {
     "elapsed": 4,
     "status": "ok",
     "timestamp": 1711997453824,
     "user": {
      "displayName": "Mark Fredrickson",
      "userId": "00750034528096359769"
     },
     "user_tz": 240
    },
    "id": "TetNBbEyeKGf"
   },
   "outputs": [],
   "source": []
  },
  {
   "cell_type": "markdown",
   "metadata": {
    "id": "rHg6IWLa_pM2"
   },
   "source": [
    "<details>\n",
    "\n",
    "```\n",
    "diff_mean_samples = pd.Series([diff_mean_dissox(dissox_bay.groupby(\"bay\").sample(20, replace = True)) for _ in range(0, 5000)])\n",
    "sb.kdeplot(x = diff_mean_samples)\n",
    "```\n",
    "\n",
    "</details>"
   ]
  },
  {
   "cell_type": "markdown",
   "metadata": {
    "id": "568RSo_Te1-P"
   },
   "source": [
    "What is the average value for this difference of means statistic across the many samples? Was it close to the population difference of means?"
   ]
  },
  {
   "cell_type": "code",
   "execution_count": null,
   "metadata": {
    "executionInfo": {
     "elapsed": 4,
     "status": "ok",
     "timestamp": 1711997453824,
     "user": {
      "displayName": "Mark Fredrickson",
      "userId": "00750034528096359769"
     },
     "user_tz": 240
    },
    "id": "X2UT9wGme6pC"
   },
   "outputs": [],
   "source": []
  },
  {
   "cell_type": "markdown",
   "metadata": {
    "id": "a3Nav_MV_fHA"
   },
   "source": [
    "<details>\n",
    "\n",
    "```\n",
    "diff_mean_samples.mean()\n",
    "```\n",
    "\n",
    "</details>"
   ]
  },
  {
   "cell_type": "markdown",
   "metadata": {
    "id": "Z17uFLMFe6Jq"
   },
   "source": [
    "What is the standard deviation of this set of difference of sample means?"
   ]
  },
  {
   "cell_type": "code",
   "execution_count": null,
   "metadata": {
    "executionInfo": {
     "elapsed": 4,
     "status": "ok",
     "timestamp": 1711997453824,
     "user": {
      "displayName": "Mark Fredrickson",
      "userId": "00750034528096359769"
     },
     "user_tz": 240
    },
    "id": "8fzYn_hrfLJV"
   },
   "outputs": [],
   "source": []
  },
  {
   "cell_type": "markdown",
   "metadata": {
    "id": "mqx1osg7_YUQ"
   },
   "source": [
    "<details>\n",
    "\n",
    "```\n",
    "diff_mean_samples.std()\n",
    "```\n",
    "\n",
    "</details>"
   ]
  },
  {
   "cell_type": "markdown",
   "metadata": {
    "id": "w01w6uSjfd0q"
   },
   "source": [
    "This value is very close to, but not identical to, our pooled standard deviation calculation we used when creating effect sizes.\n",
    "\n",
    "Calculate the following and compare to the value got as the standard deviation of the sampling distribution of the sample mean.\n",
    "\n",
    "$$\\sqrt{\\frac{\\sigma_1^2}{n_1} + \\frac{\\sigma_2^2}{n_2}}$$\n",
    "\n",
    "Where $\\sigma_1^2$ is the variance of the bay sites and $n_1$ is the number of Bay sites sampled. Likewise subscript 2 indicates the non-bay sites.\n",
    "\n"
   ]
  },
  {
   "cell_type": "code",
   "execution_count": null,
   "metadata": {
    "executionInfo": {
     "elapsed": 4,
     "status": "ok",
     "timestamp": 1711997453824,
     "user": {
      "displayName": "Mark Fredrickson",
      "userId": "00750034528096359769"
     },
     "user_tz": 240
    },
    "id": "h7JyUvnmfdWr"
   },
   "outputs": [],
   "source": []
  },
  {
   "cell_type": "markdown",
   "metadata": {
    "id": "JH7RGmi6_PqE"
   },
   "source": [
    "<details>\n",
    "\n",
    "```\n",
    "g = bbnwr.groupby(\"bay\")[\"Dissolved Oxygen (mg/L)\"]\n",
    "vars = g.var() ; print(vars)\n",
    "np.sqrt((vars / 20).sum())\n",
    "```\n",
    "\n",
    "</details>"
   ]
  },
  {
   "cell_type": "markdown",
   "metadata": {
    "id": "1QV-P-T58RAf"
   },
   "source": [
    "Let's do something similar for correlation. Here we restict rows in the table with observed dissolved oxygen and pH and demonstrate another to compute correlaiton for two variables."
   ]
  },
  {
   "cell_type": "code",
   "execution_count": 6,
   "metadata": {
    "colab": {
     "base_uri": "https://localhost:8080/"
    },
    "executionInfo": {
     "elapsed": 4,
     "status": "ok",
     "timestamp": 1711997453824,
     "user": {
      "displayName": "Mark Fredrickson",
      "userId": "00750034528096359769"
     },
     "user_tz": 240
    },
    "id": "1TYjrczjgON0",
    "outputId": "f25e753d-92f9-44fb-c52b-b834185946ac"
   },
   "outputs": [
    {
     "data": {
      "text/plain": [
       "np.float64(0.055908571056157146)"
      ]
     },
     "execution_count": 6,
     "metadata": {},
     "output_type": "execute_result"
    }
   ],
   "source": [
    "dissox_ph = bbnwr.dropna(subset = [\"Dissolved Oxygen (mg/L)\", \"pH (standard units)\"])\n",
    "dissox_ph[\"Dissolved Oxygen (mg/L)\"].corr(dissox_ph[\"pH (standard units)\"])"
   ]
  },
  {
   "cell_type": "markdown",
   "metadata": {
    "id": "ItEaWyzG9TnF"
   },
   "source": [
    "Create a function that takes a table and computes the correlation of dissolved oxygen and pH.\n"
   ]
  },
  {
   "cell_type": "code",
   "execution_count": null,
   "metadata": {
    "executionInfo": {
     "elapsed": 4,
     "status": "ok",
     "timestamp": 1711997453824,
     "user": {
      "displayName": "Mark Fredrickson",
      "userId": "00750034528096359769"
     },
     "user_tz": 240
    },
    "id": "IM59c7Wk9Zb8"
   },
   "outputs": [],
   "source": []
  },
  {
   "cell_type": "markdown",
   "metadata": {
    "id": "XXqyNdSj_I6-"
   },
   "source": [
    "<details>\n",
    "\n",
    "```\n",
    "def dissox_ph_corr(tbl):\n",
    "  return tbl[\"Dissolved Oxygen (mg/L)\"].corr(tbl[\"pH (standard units)\"])\n",
    "\n",
    "dissox_ph_corr(dissox_ph)\n",
    "```\n",
    "\n",
    "</details>"
   ]
  },
  {
   "cell_type": "markdown",
   "metadata": {
    "id": "jE872gd69Cz6"
   },
   "source": [
    "Create a simulation using 1000 samples of size 20 and compute the correlation of dissolved oxygen and pH.\n"
   ]
  },
  {
   "cell_type": "code",
   "execution_count": null,
   "metadata": {
    "executionInfo": {
     "elapsed": 4,
     "status": "ok",
     "timestamp": 1711997453824,
     "user": {
      "displayName": "Mark Fredrickson",
      "userId": "00750034528096359769"
     },
     "user_tz": 240
    },
    "id": "F_CAlUD69pfK"
   },
   "outputs": [],
   "source": []
  },
  {
   "cell_type": "markdown",
   "metadata": {
    "id": "QwVQBcwQ_Alm"
   },
   "source": [
    "<details>\n",
    "\n",
    "```\n",
    "corrs = pd.Series([dissox_ph_corr(dissox_ph.sample(20)) for _ in range(0, 1000)])\n",
    "sb.kdeplot(x = corrs)\n",
    "```\n",
    "</details>"
   ]
  },
  {
   "cell_type": "markdown",
   "metadata": {
    "id": "m0DPYn2b94VY"
   },
   "source": [
    "Compute the average correlation and the standard deviation of the correlations."
   ]
  },
  {
   "cell_type": "code",
   "execution_count": null,
   "metadata": {
    "executionInfo": {
     "elapsed": 4,
     "status": "ok",
     "timestamp": 1711997453824,
     "user": {
      "displayName": "Mark Fredrickson",
      "userId": "00750034528096359769"
     },
     "user_tz": 240
    },
    "id": "sGjf-1Om93Dr"
   },
   "outputs": [],
   "source": []
  },
  {
   "cell_type": "markdown",
   "metadata": {
    "id": "KhYoFuIO-6dO"
   },
   "source": [
    "<details>\n",
    "\n",
    "```\n",
    "(corrs.mean(), corrs.std())\n",
    "```\n",
    "\n",
    "</details>\n"
   ]
  },
  {
   "cell_type": "markdown",
   "metadata": {
    "id": "zA9P6LtX-Ek6"
   },
   "source": [
    "There a few different ways to approximate the standard deviation of the correletion coefficient, we will use the approximation:\n",
    "\n",
    "$$\\frac{1}{\\sqrt{n}}$$\n",
    "\n",
    "For $n=20$, compute this value and compare it to what we found in the simulation.\n"
   ]
  },
  {
   "cell_type": "code",
   "execution_count": null,
   "metadata": {
    "executionInfo": {
     "elapsed": 4,
     "status": "ok",
     "timestamp": 1711997453824,
     "user": {
      "displayName": "Mark Fredrickson",
      "userId": "00750034528096359769"
     },
     "user_tz": 240
    },
    "id": "oyId9j8q-UYK"
   },
   "outputs": [],
   "source": []
  },
  {
   "cell_type": "markdown",
   "metadata": {
    "id": "6vEJrNW_-0SZ"
   },
   "source": [
    "<details>\n",
    "\n",
    "```\n",
    "1/np.sqrt(20)\n",
    "```\n",
    "\n",
    "</details>\n"
   ]
  },
  {
   "cell_type": "markdown",
   "metadata": {
    "id": "tURbbJB9-cnX"
   },
   "source": [
    "As we can see in the plot, the distribution of the correlation coefficient is close to Gaussian when the true correlation is close to zero. This approximation breaks down as the population approaches 1 or -1.\n",
    "\n",
    "The quality of the Gaussian approximation can vary for things like the sample mean as well, as we will explore in the next section."
   ]
  },
  {
   "cell_type": "markdown",
   "metadata": {
    "id": "kPAlrHU16OFI"
   },
   "source": [
    "# Scooters Simulations and the Central Limit Theorem\n",
    "\n",
    "> In many cities around the world, micromobility in the form of\n",
    "electric scooters has recently become very popular.  The city of\n",
    "Austin, Texas has made available trip-level data from all scooter\n",
    "companies operating within the city limits.\n",
    "\n",
    "> This dataset is a subset of the complete Austin e-mobility dataset. A row here is a single trip on a rented scooter."
   ]
  },
  {
   "cell_type": "code",
   "execution_count": 7,
   "metadata": {
    "executionInfo": {
     "elapsed": 2384,
     "status": "ok",
     "timestamp": 1711997456204,
     "user": {
      "displayName": "Mark Fredrickson",
      "userId": "00750034528096359769"
     },
     "user_tz": 240
    },
    "id": "VCqUmeaPwawm"
   },
   "outputs": [],
   "source": [
    "scooters = pd.read_csv(\"./scooters_tiny.csv.gz\")"
   ]
  },
  {
   "cell_type": "markdown",
   "metadata": {
    "id": "bIJmw18T7ViF"
   },
   "source": [
    "In lecture, we learned that the central limit theorem (CLT) states that, in large samples, the **sampling distribution of the sample means of IID $X$ with $\\text{E}(X) = \\mu$ and $\\text{Var}(X) = \\sigma^2$ will converge to a standard normal (Gaussian) distribution**.\n",
    "\n",
    "Above, we observed the behavior of the central limit theorem in a variable that was approximately Gaussian already. However, this theorem holds even if the original variables themselves are not normally distributed. We will conduct simulations using the scooters data to observe this fact.\n",
    "\n"
   ]
  },
  {
   "cell_type": "markdown",
   "metadata": {
    "id": "gyrAzkve97dJ"
   },
   "source": [
    "The Trip Duration variable in the scooters dataset represents the scooter trip duration in seconds. Because there are many more short trips, with few extremely long trips, this data is extremely right skewed. This is represented in the KDE plot below."
   ]
  },
  {
   "cell_type": "code",
   "execution_count": 8,
   "metadata": {
    "colab": {
     "base_uri": "https://localhost:8080/",
     "height": 482
    },
    "executionInfo": {
     "elapsed": 2994,
     "status": "ok",
     "timestamp": 1711997459197,
     "user": {
      "displayName": "Mark Fredrickson",
      "userId": "00750034528096359769"
     },
     "user_tz": 240
    },
    "id": "_1u6pWc37Gkv",
    "outputId": "605c39ab-c1b7-44bc-dadb-d0d7e09a8d33"
   },
   "outputs": [
    {
     "data": {
      "text/plain": [
       "<Axes: xlabel='Trip Duration', ylabel='Density'>"
      ]
     },
     "execution_count": 8,
     "metadata": {},
     "output_type": "execute_result"
    },
    {
     "data": {
      "image/png": "[encoded data removed]",
      "text/plain": [
       "<Figure size 640x480 with 1 Axes>"
      ]
     },
     "metadata": {},
     "output_type": "display_data"
    }
   ],
   "source": [
    "sb.kdeplot(scooters['Trip Duration'])"
   ]
  },
  {
   "cell_type": "markdown",
   "metadata": {
    "id": "Vx3fSdYcBUkt"
   },
   "source": [
    "Compute the coefficient of skew for 'Trip Duration' using the .skew() method"
   ]
  },
  {
   "cell_type": "code",
   "execution_count": null,
   "metadata": {
    "executionInfo": {
     "elapsed": 2,
     "status": "ok",
     "timestamp": 1711997459197,
     "user": {
      "displayName": "Mark Fredrickson",
      "userId": "00750034528096359769"
     },
     "user_tz": 240
    },
    "id": "xMscXuIDBTvT"
   },
   "outputs": [],
   "source": []
  },
  {
   "cell_type": "markdown",
   "metadata": {
    "id": "EbiOYL0sBc8K"
   },
   "source": [
    "<details>\n",
    "\n",
    "```\n",
    "scooters['Trip Duration'].skew()\n",
    "```\n",
    "\n",
    "</details>"
   ]
  },
  {
   "cell_type": "markdown",
   "metadata": {
    "id": "_jjSmuvvAzbE"
   },
   "source": [
    "As we have done in previous labs and homeworks, we will attempt to correct for the skew using a **transformation**. Because Trip Duration has mostly **positive, right skewed data**, we can observe the effects of the\n",
    "\n",
    "* reciprocal transformation: $1/X$\n",
    "* square root transformation: $\\sqrt{X}$\n",
    "* logarithm transformation: $\\log(X)$\n",
    "\n",
    "A very small number of the trip duration values are equal to 0. To use these transformations, we will need to change these values to be 1, as the reciprocal and log transformations will not work on values that are 0. Run the line of code given below to replace these values.\n"
   ]
  },
  {
   "cell_type": "code",
   "execution_count": 9,
   "metadata": {
    "executionInfo": {
     "elapsed": 534,
     "status": "ok",
     "timestamp": 1711997459730,
     "user": {
      "displayName": "Mark Fredrickson",
      "userId": "00750034528096359769"
     },
     "user_tz": 240
    },
    "id": "ftgj3GhxCrk6"
   },
   "outputs": [],
   "source": [
    "# this line of code replaces Trip Duration values less than 1 with 1, which is necessary for the transformations below\n",
    "scooters['Trip Duration'] = scooters['Trip Duration'].apply(lambda x: 1 if x < 1 else x)"
   ]
  },
  {
   "cell_type": "markdown",
   "metadata": {
    "id": "D7oEpQ4RSHe2"
   },
   "source": [
    "\n",
    "Implement these three transformations for `Trip Duration` and compute the coefficient of skew using the .skew() method."
   ]
  },
  {
   "cell_type": "code",
   "execution_count": null,
   "metadata": {
    "executionInfo": {
     "elapsed": 2,
     "status": "ok",
     "timestamp": 1711997459730,
     "user": {
      "displayName": "Mark Fredrickson",
      "userId": "00750034528096359769"
     },
     "user_tz": 240
    },
    "id": "I1vDT4IC9Wwk"
   },
   "outputs": [],
   "source": []
  },
  {
   "cell_type": "markdown",
   "metadata": {
    "id": "i3lIQgtrEl2M"
   },
   "source": [
    "<details>\n",
    "\n",
    "```\n",
    "scooters[\"duration_recip\"] = 1 / scooters[\"Trip Duration\"]\n",
    "scooters[\"duration_sqrt\"] = np.sqrt(scooters[\"Trip Duration\"])\n",
    "scooters[\"duration_log\"] = np.log(scooters[\"Trip Duration\"])\n",
    "\n",
    "scooters[[\"Trip Duration\", \"duration_recip\", \"duration_sqrt\", \"duration_log\"]].skew()\n",
    "```\n",
    "\n",
    "</details>"
   ]
  },
  {
   "cell_type": "markdown",
   "metadata": {
    "id": "vsRSL5AIEdAc"
   },
   "source": [
    "Which transformation minimizes skew? Select that transformation and use it for the following tasks."
   ]
  },
  {
   "cell_type": "markdown",
   "metadata": {
    "id": "veDoUd8CE6Q7"
   },
   "source": [
    "Now use a list comprehension like in the section above to repeatedly sample 5 trip durations from the dataset 100 times. Do this for both the original Trip Duration data, and the transformed trip duration data. (Hint: the end of the comprehension should include `for _ in range(0, 100)`)."
   ]
  },
  {
   "cell_type": "code",
   "execution_count": null,
   "metadata": {
    "executionInfo": {
     "elapsed": 2,
     "status": "ok",
     "timestamp": 1711997459730,
     "user": {
      "displayName": "Mark Fredrickson",
      "userId": "00750034528096359769"
     },
     "user_tz": 240
    },
    "id": "POITmG3FE6Q8"
   },
   "outputs": [],
   "source": []
  },
  {
   "cell_type": "markdown",
   "metadata": {
    "id": "Oh52RzLqE6Q8"
   },
   "source": [
    "<details>\n",
    "\n",
    "```\n",
    "duration_sample_means5 = [scooters['Trip Duration'].sample(5).mean() for _ in range(0,100)]\n",
    "log_duration_sample_means5 = [scooters['duration_log'].sample(5).mean() for _ in range(0,100)]\n",
    "```\n",
    "\n",
    "</details>"
   ]
  },
  {
   "cell_type": "markdown",
   "metadata": {
    "id": "m1FrLKX8HFc1"
   },
   "source": [
    "Plot the sampling distribution of the sample means using a KDE plot for both the original and transformed data."
   ]
  },
  {
   "cell_type": "code",
   "execution_count": null,
   "metadata": {
    "executionInfo": {
     "elapsed": 2,
     "status": "ok",
     "timestamp": 1711997459730,
     "user": {
      "displayName": "Mark Fredrickson",
      "userId": "00750034528096359769"
     },
     "user_tz": 240
    },
    "id": "U-a43OAuQnJH"
   },
   "outputs": [],
   "source": []
  },
  {
   "cell_type": "markdown",
   "metadata": {
    "id": "3YtMkMF-Qr-_"
   },
   "source": [
    "<details>\n",
    "\n",
    "```\n",
    "sb.kdeplot(x = duration_sample_means5)\n",
    "sb.kdeplot(x = log_duration_sample_means5)\n",
    "```\n",
    "\n",
    "</details>"
   ]
  },
  {
   "cell_type": "markdown",
   "metadata": {
    "id": "ujw5Jt4uL6au"
   },
   "source": [
    "Although the distributions produced will vary due to randomness in the sampling, we can make general observations about trends that we see. With a sample of size 5, we can see that with the original Trip Duration data, the sampling distribution of the sample means still has significant amount of skew, while the plot using the transformed Trip Duration data shows a distribution that is already approaching normality."
   ]
  },
  {
   "cell_type": "markdown",
   "metadata": {
    "id": "Z1pNJ0DCE6Q9"
   },
   "source": [
    "Repeat the simulations for samples of size 30, and plot again. What do you see?"
   ]
  },
  {
   "cell_type": "code",
   "execution_count": null,
   "metadata": {
    "executionInfo": {
     "elapsed": 2,
     "status": "ok",
     "timestamp": 1711997459730,
     "user": {
      "displayName": "Mark Fredrickson",
      "userId": "00750034528096359769"
     },
     "user_tz": 240
    },
    "id": "N8C2-NrQE6Q9"
   },
   "outputs": [],
   "source": []
  },
  {
   "cell_type": "markdown",
   "metadata": {
    "id": "HER0XMS9E6Q9"
   },
   "source": [
    "<details>\n",
    "\n",
    "```\n",
    "duration_sample_means30 = [scooters['Trip Duration'].sample(30).mean() for _ in range(0,100)]\n",
    "log_duration_sample_means30 = [scooters['duration_log'].sample(30).mean() for _ in range(0,100)]\n",
    "sb.kdeplot(x = duration_sample_means30)\n",
    "sb.kdeplot(x = log_duration_sample_means30)\n",
    "```\n",
    "\n",
    "</details>"
   ]
  },
  {
   "cell_type": "markdown",
   "metadata": {
    "id": "FVpuAuLjMwXi"
   },
   "source": [
    "With a sample of size 30, we are likely seeing that the sampling distribution of the sample means for the original duration data is starting to look a lot less skewed and more Gaussian. The plot using the transformed Trip Duration data is likely already looking very close to normal."
   ]
  },
  {
   "cell_type": "markdown",
   "metadata": {
    "id": "OLNgUwLKNIHY"
   },
   "source": [
    "Finally, repeat the simulations for 100 samples, each of size 100, and plot again. What do you see?"
   ]
  },
  {
   "cell_type": "code",
   "execution_count": null,
   "metadata": {
    "executionInfo": {
     "elapsed": 1,
     "status": "ok",
     "timestamp": 1711997459730,
     "user": {
      "displayName": "Mark Fredrickson",
      "userId": "00750034528096359769"
     },
     "user_tz": 240
    },
    "id": "Pb4_h1YeNWlz"
   },
   "outputs": [],
   "source": []
  },
  {
   "cell_type": "markdown",
   "metadata": {
    "id": "QBMGp4QeNWl5"
   },
   "source": [
    "<details>\n",
    "\n",
    "```\n",
    "duration_sample_means100 = [scooters['Trip Duration'].sample(100).mean() for _ in range(0,100)]\n",
    "log_duration_sample_means100 = [scooters['duration_log'].sample(100).mean() for _ in range(0,100)]\n",
    "sb.kdeplot(x = duration_sample_means100)\n",
    "sb.kdeplot(x = log_duration_sample_means100)\n",
    "```\n",
    "\n",
    "</details>"
   ]
  },
  {
   "cell_type": "markdown",
   "metadata": {
    "id": "ONEA3kScNWl5"
   },
   "source": [
    "As we increase the sample size n, the sampling distribution of the sample means approaches a Gaussian distribution, even for the very skewed `Trip Duration` data.\n",
    "\n",
    "With the transformed data, which was dramatically less skewed, the distribution of sample means approached normality \"faster\". The plots showed distributions that appeared normal even with smaller samples. With the extremely skewed `Trip Duration` data, it required a larger sample size to approach normality.\n",
    "\n",
    "How large the sample size has to be for the normal distribution to occur is dependent on the original underlying distribution. We can conclude from these simulations that the more the population distribution differs from the Normal/Gaussian distribution, the larger the sample size required to approach normality.\n",
    "\n",
    "Typically, a sample of size 30 (i.e. n = 30) is considered large enough to see the effect of the Central Limit theorem. If the population is relatively normal (like our transformed data), then the theorem may hold true even for samples smaller than 30. With extremely skewed data, a sample size larger than 30 may be required."
   ]
  }
 ],
 "metadata": {
  "colab": {
   "provenance": []
  },
  "kernelspec": {
   "display_name": "Python 3",
   "name": "python3"
  },
  "language_info": {
   "codemirror_mode": {
    "name": "ipython",
    "version": 3
   },
   "file_extension": ".py",
   "mimetype": "text/x-python",
   "name": "python",
   "nbconvert_exporter": "python",
   "pygments_lexer": "ipython3",
   "version": "3.12.1"
  }
 },
 "nbformat": 4,
 "nbformat_minor": 0
}
